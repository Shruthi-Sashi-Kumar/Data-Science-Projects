{
 "cells": [
  {
   "cell_type": "markdown",
   "id": "3ca97bcc-0dc5-4a6b-a3e9-1a3fb8100bc6",
   "metadata": {},
   "source": [
    "## Data Imports and Preprocessing"
   ]
  },
  {
   "cell_type": "markdown",
   "id": "fc33d25e-6be5-4502-bb8f-f20fcce5b8a8",
   "metadata": {},
   "source": [
    "**Import the libraries**"
   ]
  },
  {
   "cell_type": "code",
   "execution_count": 1,
   "id": "be34b0d8-caef-491b-8cb8-0eb6c4b52f4a",
   "metadata": {},
   "outputs": [],
   "source": [
    "import numpy as np\n",
    "import pandas as pd\n",
    "import matplotlib.pyplot as plt\n",
    "import seaborn as sns\n",
    "from sklearn.model_selection import train_test_split\n",
    "from sklearn.linear_model import LogisticRegression\n",
    "from sklearn.naive_bayes import GaussianNB\n",
    "from sklearn.metrics import accuracy_score,precision_score,recall_score,f1_score\n",
    "from sklearn.metrics import roc_curve,roc_auc_score, confusion_matrix,classification_report\n",
    "import statsmodels.api as sm\n",
    "import warnings\n",
    "warnings.filterwarnings(\"ignore\")"
   ]
  },
  {
   "cell_type": "markdown",
   "id": "380ed57c-245b-4411-bf30-785b78b0e570",
   "metadata": {},
   "source": [
    "**Import and view the data**"
   ]
  },
  {
   "cell_type": "code",
   "execution_count": 2,
   "id": "9938c431-de49-4ce8-b5c2-1ab3d7783dbc",
   "metadata": {},
   "outputs": [],
   "source": [
    "df=pd.read_csv('diabetes.csv')"
   ]
  },
  {
   "cell_type": "code",
   "execution_count": 3,
   "id": "7a9cd4dc-b69d-4253-b591-7fc6250a569d",
   "metadata": {},
   "outputs": [
    {
     "data": {
      "text/html": [
       "<div>\n",
       "<style scoped>\n",
       "    .dataframe tbody tr th:only-of-type {\n",
       "        vertical-align: middle;\n",
       "    }\n",
       "\n",
       "    .dataframe tbody tr th {\n",
       "        vertical-align: top;\n",
       "    }\n",
       "\n",
       "    .dataframe thead th {\n",
       "        text-align: right;\n",
       "    }\n",
       "</style>\n",
       "<table border=\"1\" class=\"dataframe\">\n",
       "  <thead>\n",
       "    <tr style=\"text-align: right;\">\n",
       "      <th></th>\n",
       "      <th>Pregnancies</th>\n",
       "      <th>Glucose</th>\n",
       "      <th>BloodPressure</th>\n",
       "      <th>SkinThickness</th>\n",
       "      <th>Insulin</th>\n",
       "      <th>BMI</th>\n",
       "      <th>DiabetesPedigreeFunction</th>\n",
       "      <th>Age</th>\n",
       "      <th>Outcome</th>\n",
       "    </tr>\n",
       "  </thead>\n",
       "  <tbody>\n",
       "    <tr>\n",
       "      <th>0</th>\n",
       "      <td>6</td>\n",
       "      <td>148</td>\n",
       "      <td>72</td>\n",
       "      <td>35</td>\n",
       "      <td>0</td>\n",
       "      <td>33.6</td>\n",
       "      <td>0.627</td>\n",
       "      <td>50</td>\n",
       "      <td>1</td>\n",
       "    </tr>\n",
       "    <tr>\n",
       "      <th>1</th>\n",
       "      <td>1</td>\n",
       "      <td>85</td>\n",
       "      <td>66</td>\n",
       "      <td>29</td>\n",
       "      <td>0</td>\n",
       "      <td>26.6</td>\n",
       "      <td>0.351</td>\n",
       "      <td>31</td>\n",
       "      <td>0</td>\n",
       "    </tr>\n",
       "    <tr>\n",
       "      <th>2</th>\n",
       "      <td>8</td>\n",
       "      <td>183</td>\n",
       "      <td>64</td>\n",
       "      <td>0</td>\n",
       "      <td>0</td>\n",
       "      <td>23.3</td>\n",
       "      <td>0.672</td>\n",
       "      <td>32</td>\n",
       "      <td>1</td>\n",
       "    </tr>\n",
       "    <tr>\n",
       "      <th>3</th>\n",
       "      <td>1</td>\n",
       "      <td>89</td>\n",
       "      <td>66</td>\n",
       "      <td>23</td>\n",
       "      <td>94</td>\n",
       "      <td>28.1</td>\n",
       "      <td>0.167</td>\n",
       "      <td>21</td>\n",
       "      <td>0</td>\n",
       "    </tr>\n",
       "    <tr>\n",
       "      <th>4</th>\n",
       "      <td>0</td>\n",
       "      <td>137</td>\n",
       "      <td>40</td>\n",
       "      <td>35</td>\n",
       "      <td>168</td>\n",
       "      <td>43.1</td>\n",
       "      <td>2.288</td>\n",
       "      <td>33</td>\n",
       "      <td>1</td>\n",
       "    </tr>\n",
       "  </tbody>\n",
       "</table>\n",
       "</div>"
      ],
      "text/plain": [
       "   Pregnancies  Glucose  BloodPressure  SkinThickness  Insulin   BMI  \\\n",
       "0            6      148             72             35        0  33.6   \n",
       "1            1       85             66             29        0  26.6   \n",
       "2            8      183             64              0        0  23.3   \n",
       "3            1       89             66             23       94  28.1   \n",
       "4            0      137             40             35      168  43.1   \n",
       "\n",
       "   DiabetesPedigreeFunction  Age  Outcome  \n",
       "0                     0.627   50        1  \n",
       "1                     0.351   31        0  \n",
       "2                     0.672   32        1  \n",
       "3                     0.167   21        0  \n",
       "4                     2.288   33        1  "
      ]
     },
     "execution_count": 3,
     "metadata": {},
     "output_type": "execute_result"
    }
   ],
   "source": [
    "df.head()"
   ]
  },
  {
   "cell_type": "markdown",
   "id": "720a5bd3-4f93-46e8-a2a9-9edfacb228d1",
   "metadata": {},
   "source": [
    "**Get the information of the data** "
   ]
  },
  {
   "cell_type": "code",
   "execution_count": 4,
   "id": "d3e46af5-bf13-42e0-877e-b9626d9417e7",
   "metadata": {},
   "outputs": [
    {
     "name": "stdout",
     "output_type": "stream",
     "text": [
      "<class 'pandas.core.frame.DataFrame'>\n",
      "RangeIndex: 768 entries, 0 to 767\n",
      "Data columns (total 9 columns):\n",
      " #   Column                    Non-Null Count  Dtype  \n",
      "---  ------                    --------------  -----  \n",
      " 0   Pregnancies               768 non-null    int64  \n",
      " 1   Glucose                   768 non-null    int64  \n",
      " 2   BloodPressure             768 non-null    int64  \n",
      " 3   SkinThickness             768 non-null    int64  \n",
      " 4   Insulin                   768 non-null    int64  \n",
      " 5   BMI                       768 non-null    float64\n",
      " 6   DiabetesPedigreeFunction  768 non-null    float64\n",
      " 7   Age                       768 non-null    int64  \n",
      " 8   Outcome                   768 non-null    int64  \n",
      "dtypes: float64(2), int64(7)\n",
      "memory usage: 54.1 KB\n"
     ]
    }
   ],
   "source": [
    "df.info()"
   ]
  },
  {
   "cell_type": "code",
   "execution_count": 6,
   "id": "d9ce6ceb",
   "metadata": {},
   "outputs": [
    {
     "data": {
      "text/plain": [
       "0"
      ]
     },
     "execution_count": 6,
     "metadata": {},
     "output_type": "execute_result"
    }
   ],
   "source": [
    "#check for duplicates\n",
    "df.duplicated().sum()"
   ]
  },
  {
   "cell_type": "markdown",
   "id": "cbe55c47",
   "metadata": {},
   "source": [
    "   **Observations**\n",
    "1. There are 768 rows and 9 columns in the dataset.\n",
    "2. There are no null values.\n",
    "3. All the data are numerical(float or int).\n",
    "4. Outcome is an int (0=No diabetic, 1=Diabetic)\n",
    "5. There are no duplicate rows."
   ]
  },
  {
   "cell_type": "markdown",
   "id": "5275ef12-3e75-4d1f-a161-6c7400aef80c",
   "metadata": {},
   "source": [
    "**Get the descriptives of the data** "
   ]
  },
  {
   "cell_type": "code",
   "execution_count": 7,
   "id": "c0af8a41-2e71-441b-a96a-a33cc6c33162",
   "metadata": {},
   "outputs": [
    {
     "data": {
      "text/html": [
       "<div>\n",
       "<style scoped>\n",
       "    .dataframe tbody tr th:only-of-type {\n",
       "        vertical-align: middle;\n",
       "    }\n",
       "\n",
       "    .dataframe tbody tr th {\n",
       "        vertical-align: top;\n",
       "    }\n",
       "\n",
       "    .dataframe thead th {\n",
       "        text-align: right;\n",
       "    }\n",
       "</style>\n",
       "<table border=\"1\" class=\"dataframe\">\n",
       "  <thead>\n",
       "    <tr style=\"text-align: right;\">\n",
       "      <th></th>\n",
       "      <th>count</th>\n",
       "      <th>mean</th>\n",
       "      <th>std</th>\n",
       "      <th>min</th>\n",
       "      <th>25%</th>\n",
       "      <th>50%</th>\n",
       "      <th>75%</th>\n",
       "      <th>max</th>\n",
       "    </tr>\n",
       "  </thead>\n",
       "  <tbody>\n",
       "    <tr>\n",
       "      <th>Pregnancies</th>\n",
       "      <td>768.0</td>\n",
       "      <td>3.845052</td>\n",
       "      <td>3.369578</td>\n",
       "      <td>0.000</td>\n",
       "      <td>1.00000</td>\n",
       "      <td>3.0000</td>\n",
       "      <td>6.00000</td>\n",
       "      <td>17.00</td>\n",
       "    </tr>\n",
       "    <tr>\n",
       "      <th>Glucose</th>\n",
       "      <td>768.0</td>\n",
       "      <td>120.894531</td>\n",
       "      <td>31.972618</td>\n",
       "      <td>0.000</td>\n",
       "      <td>99.00000</td>\n",
       "      <td>117.0000</td>\n",
       "      <td>140.25000</td>\n",
       "      <td>199.00</td>\n",
       "    </tr>\n",
       "    <tr>\n",
       "      <th>BloodPressure</th>\n",
       "      <td>768.0</td>\n",
       "      <td>69.105469</td>\n",
       "      <td>19.355807</td>\n",
       "      <td>0.000</td>\n",
       "      <td>62.00000</td>\n",
       "      <td>72.0000</td>\n",
       "      <td>80.00000</td>\n",
       "      <td>122.00</td>\n",
       "    </tr>\n",
       "    <tr>\n",
       "      <th>SkinThickness</th>\n",
       "      <td>768.0</td>\n",
       "      <td>20.536458</td>\n",
       "      <td>15.952218</td>\n",
       "      <td>0.000</td>\n",
       "      <td>0.00000</td>\n",
       "      <td>23.0000</td>\n",
       "      <td>32.00000</td>\n",
       "      <td>99.00</td>\n",
       "    </tr>\n",
       "    <tr>\n",
       "      <th>Insulin</th>\n",
       "      <td>768.0</td>\n",
       "      <td>79.799479</td>\n",
       "      <td>115.244002</td>\n",
       "      <td>0.000</td>\n",
       "      <td>0.00000</td>\n",
       "      <td>30.5000</td>\n",
       "      <td>127.25000</td>\n",
       "      <td>846.00</td>\n",
       "    </tr>\n",
       "    <tr>\n",
       "      <th>BMI</th>\n",
       "      <td>768.0</td>\n",
       "      <td>31.992578</td>\n",
       "      <td>7.884160</td>\n",
       "      <td>0.000</td>\n",
       "      <td>27.30000</td>\n",
       "      <td>32.0000</td>\n",
       "      <td>36.60000</td>\n",
       "      <td>67.10</td>\n",
       "    </tr>\n",
       "    <tr>\n",
       "      <th>DiabetesPedigreeFunction</th>\n",
       "      <td>768.0</td>\n",
       "      <td>0.471876</td>\n",
       "      <td>0.331329</td>\n",
       "      <td>0.078</td>\n",
       "      <td>0.24375</td>\n",
       "      <td>0.3725</td>\n",
       "      <td>0.62625</td>\n",
       "      <td>2.42</td>\n",
       "    </tr>\n",
       "    <tr>\n",
       "      <th>Age</th>\n",
       "      <td>768.0</td>\n",
       "      <td>33.240885</td>\n",
       "      <td>11.760232</td>\n",
       "      <td>21.000</td>\n",
       "      <td>24.00000</td>\n",
       "      <td>29.0000</td>\n",
       "      <td>41.00000</td>\n",
       "      <td>81.00</td>\n",
       "    </tr>\n",
       "    <tr>\n",
       "      <th>Outcome</th>\n",
       "      <td>768.0</td>\n",
       "      <td>0.348958</td>\n",
       "      <td>0.476951</td>\n",
       "      <td>0.000</td>\n",
       "      <td>0.00000</td>\n",
       "      <td>0.0000</td>\n",
       "      <td>1.00000</td>\n",
       "      <td>1.00</td>\n",
       "    </tr>\n",
       "  </tbody>\n",
       "</table>\n",
       "</div>"
      ],
      "text/plain": [
       "                          count        mean         std     min       25%  \\\n",
       "Pregnancies               768.0    3.845052    3.369578   0.000   1.00000   \n",
       "Glucose                   768.0  120.894531   31.972618   0.000  99.00000   \n",
       "BloodPressure             768.0   69.105469   19.355807   0.000  62.00000   \n",
       "SkinThickness             768.0   20.536458   15.952218   0.000   0.00000   \n",
       "Insulin                   768.0   79.799479  115.244002   0.000   0.00000   \n",
       "BMI                       768.0   31.992578    7.884160   0.000  27.30000   \n",
       "DiabetesPedigreeFunction  768.0    0.471876    0.331329   0.078   0.24375   \n",
       "Age                       768.0   33.240885   11.760232  21.000  24.00000   \n",
       "Outcome                   768.0    0.348958    0.476951   0.000   0.00000   \n",
       "\n",
       "                               50%        75%     max  \n",
       "Pregnancies                 3.0000    6.00000   17.00  \n",
       "Glucose                   117.0000  140.25000  199.00  \n",
       "BloodPressure              72.0000   80.00000  122.00  \n",
       "SkinThickness              23.0000   32.00000   99.00  \n",
       "Insulin                    30.5000  127.25000  846.00  \n",
       "BMI                        32.0000   36.60000   67.10  \n",
       "DiabetesPedigreeFunction    0.3725    0.62625    2.42  \n",
       "Age                        29.0000   41.00000   81.00  \n",
       "Outcome                     0.0000    1.00000    1.00  "
      ]
     },
     "execution_count": 7,
     "metadata": {},
     "output_type": "execute_result"
    }
   ],
   "source": [
    "df.describe().T"
   ]
  },
  {
   "cell_type": "markdown",
   "id": "7e4c948d",
   "metadata": {},
   "source": [
    "Glucose,Blood pressure,insulin,BMI and Skin Thickness have minimum value of 0 , which is an error.So we need to impute them seperately for each variable with respective median values"
   ]
  },
  {
   "cell_type": "markdown",
   "id": "95483b67-ef73-439e-b763-609c6685a0c3",
   "metadata": {},
   "source": [
    "**Impute the null values ( 0 values ) with column median**"
   ]
  },
  {
   "cell_type": "code",
   "execution_count": 8,
   "id": "2129acdc-9224-4415-a7ae-8a96eb98f41c",
   "metadata": {},
   "outputs": [],
   "source": [
    "df['Glucose']=df['Glucose'].replace(0,df['Glucose'].median())\n",
    "df['BloodPressure']=df['BloodPressure'].replace(0,df['BloodPressure'].median())\n",
    "df['BMI']=df['BMI'].replace(0,df['BMI'].median())\n",
    "df['Insulin']=df['Insulin'].replace(0,df['Insulin'].median())\n",
    "df['SkinThickness']=df['SkinThickness'].replace(0,df['SkinThickness'].median())"
   ]
  },
  {
   "cell_type": "code",
   "execution_count": 9,
   "id": "f0a494db-0d8c-4f54-8dea-c9292e0e00bb",
   "metadata": {},
   "outputs": [],
   "source": [
    "cols=df.columns[1:6]\n",
    "zerofill=lambda x: x.replace(0,x.median)\n",
    "df[cols]=df[cols].apply(zerofill,axis=0)"
   ]
  },
  {
   "cell_type": "code",
   "execution_count": 10,
   "id": "2a5b6508-690d-4580-ac2b-bcae8d0c8989",
   "metadata": {},
   "outputs": [
    {
     "data": {
      "text/plain": [
       "Pregnancies                  0.000\n",
       "Glucose                     44.000\n",
       "BloodPressure               24.000\n",
       "SkinThickness                7.000\n",
       "Insulin                     14.000\n",
       "BMI                         18.200\n",
       "DiabetesPedigreeFunction     0.078\n",
       "Age                         21.000\n",
       "Outcome                      0.000\n",
       "dtype: float64"
      ]
     },
     "execution_count": 10,
     "metadata": {},
     "output_type": "execute_result"
    }
   ],
   "source": [
    "df[df.columns[:]].agg('min')"
   ]
  },
  {
   "cell_type": "markdown",
   "id": "d409da38",
   "metadata": {},
   "source": [
    "**Seperate the features and label and perforn the train test split**"
   ]
  },
  {
   "cell_type": "code",
   "execution_count": 12,
   "id": "63abe1ee",
   "metadata": {},
   "outputs": [
    {
     "name": "stdout",
     "output_type": "stream",
     "text": [
      "(614, 8) (614,)\n",
      "(154, 8) (154,)\n"
     ]
    }
   ],
   "source": [
    "X=df.drop('Outcome',axis=1)\n",
    "y=df['Outcome']\n",
    "\n",
    "x_train,x_test,y_train,y_test=train_test_split(X,y,test_size=0.2,random_state=1)\n",
    "print(x_train.shape,y_train.shape)\n",
    "print(x_test.shape,y_test.shape)"
   ]
  },
  {
   "cell_type": "markdown",
   "id": "a1f5af03-02a9-4987-966b-10149dd2138f",
   "metadata": {},
   "source": [
    "## Fit a Logistic Regression Model"
   ]
  },
  {
   "cell_type": "markdown",
   "id": "d7ff2110-f4de-42b8-821a-d28f0e89cf6a",
   "metadata": {},
   "source": [
    "**Fit the logistic regression model** "
   ]
  },
  {
   "cell_type": "code",
   "execution_count": 13,
   "id": "660bc492-ff93-4304-b2aa-c8772ff988b5",
   "metadata": {},
   "outputs": [],
   "source": [
    "logreg=LogisticRegression()\n",
    "logreg.fit(x_train,y_train)\n",
    "y_pred=logreg.predict(x_test)"
   ]
  },
  {
   "cell_type": "markdown",
   "id": "fc13a7f8-01d4-4a17-9b70-74f0d92aecb8",
   "metadata": {},
   "source": [
    "**Get the predicted probabilities** "
   ]
  },
  {
   "cell_type": "code",
   "execution_count": 14,
   "id": "d1c07ae0-0807-45d7-9b5f-8db3d3c16405",
   "metadata": {},
   "outputs": [],
   "source": [
    "y_pred_probs=logreg.predict_proba(x_test)[:,1]"
   ]
  },
  {
   "cell_type": "code",
   "execution_count": 16,
   "id": "05002a3d-6207-44a7-bd38-48b318a843b0",
   "metadata": {},
   "outputs": [
    {
     "data": {
      "text/html": [
       "<div>\n",
       "<style scoped>\n",
       "    .dataframe tbody tr th:only-of-type {\n",
       "        vertical-align: middle;\n",
       "    }\n",
       "\n",
       "    .dataframe tbody tr th {\n",
       "        vertical-align: top;\n",
       "    }\n",
       "\n",
       "    .dataframe thead th {\n",
       "        text-align: right;\n",
       "    }\n",
       "</style>\n",
       "<table border=\"1\" class=\"dataframe\">\n",
       "  <thead>\n",
       "    <tr style=\"text-align: right;\">\n",
       "      <th></th>\n",
       "      <th>Probabilities</th>\n",
       "      <th>Label</th>\n",
       "    </tr>\n",
       "  </thead>\n",
       "  <tbody>\n",
       "    <tr>\n",
       "      <th>125</th>\n",
       "      <td>0.125784</td>\n",
       "      <td>0</td>\n",
       "    </tr>\n",
       "    <tr>\n",
       "      <th>97</th>\n",
       "      <td>0.205814</td>\n",
       "      <td>0</td>\n",
       "    </tr>\n",
       "    <tr>\n",
       "      <th>78</th>\n",
       "      <td>0.208431</td>\n",
       "      <td>0</td>\n",
       "    </tr>\n",
       "    <tr>\n",
       "      <th>28</th>\n",
       "      <td>0.106866</td>\n",
       "      <td>0</td>\n",
       "    </tr>\n",
       "    <tr>\n",
       "      <th>115</th>\n",
       "      <td>0.053863</td>\n",
       "      <td>0</td>\n",
       "    </tr>\n",
       "  </tbody>\n",
       "</table>\n",
       "</div>"
      ],
      "text/plain": [
       "     Probabilities  Label\n",
       "125       0.125784      0\n",
       "97        0.205814      0\n",
       "78        0.208431      0\n",
       "28        0.106866      0\n",
       "115       0.053863      0"
      ]
     },
     "execution_count": 16,
     "metadata": {},
     "output_type": "execute_result"
    }
   ],
   "source": [
    "df_probs=pd.DataFrame({'Probabilities':y_pred_probs,'Label':y_pred})\n",
    "\n",
    "df_probs.sample(5)"
   ]
  },
  {
   "cell_type": "markdown",
   "id": "13f675b5-683b-4f40-9c2b-277ee258c237",
   "metadata": {},
   "source": [
    "**Plot the ROC Curve**"
   ]
  },
  {
   "cell_type": "code",
   "execution_count": 18,
   "id": "82774320-46d0-46b6-aab4-2d2554c68541",
   "metadata": {},
   "outputs": [
    {
     "data": {
      "image/png": "[encoded data removed]",
      "text/plain": [
       "<Figure size 640x480 with 1 Axes>"
      ]
     },
     "metadata": {},
     "output_type": "display_data"
    }
   ],
   "source": [
    "fpr,tpr,thresholds=roc_curve(y_test,y_pred_probs)\n",
    "plt.plot([0,1],[0,1],'k--')\n",
    "plt.plot(fpr,tpr)\n",
    "plt.xlabel(\"False Positive Rate\")\n",
    "plt.ylabel(\"True Positive Rate\")\n",
    "plt.title(\"ROC Curve for Diabetes dataset\")\n",
    "plt.show()"
   ]
  },
  {
   "cell_type": "markdown",
   "id": "a9b3b3d9-e932-40ed-bff7-c7ed4466ca48",
   "metadata": {},
   "source": [
    "**Calculate the ROC AUC**"
   ]
  },
  {
   "cell_type": "code",
   "execution_count": 20,
   "id": "c9e7b841-1351-4845-9a14-817d36869f95",
   "metadata": {},
   "outputs": [
    {
     "data": {
      "text/plain": [
       "0.8653810835629017"
      ]
     },
     "execution_count": 20,
     "metadata": {},
     "output_type": "execute_result"
    }
   ],
   "source": [
    "roc_auc=roc_auc_score(y_test,y_pred_probs)\n",
    "roc_auc  #above 75 is a good score"
   ]
  },
  {
   "cell_type": "markdown",
   "id": "ff12437b-4f39-4ac7-bf59-5023475acf87",
   "metadata": {},
   "source": [
    "**Calculate the other evaluation metrics** "
   ]
  },
  {
   "cell_type": "code",
   "execution_count": 22,
   "id": "e4be5624-1309-4d44-8fe5-90f56df17f9f",
   "metadata": {},
   "outputs": [
    {
     "data": {
      "text/html": [
       "<div>\n",
       "<style scoped>\n",
       "    .dataframe tbody tr th:only-of-type {\n",
       "        vertical-align: middle;\n",
       "    }\n",
       "\n",
       "    .dataframe tbody tr th {\n",
       "        vertical-align: top;\n",
       "    }\n",
       "\n",
       "    .dataframe thead th {\n",
       "        text-align: right;\n",
       "    }\n",
       "</style>\n",
       "<table border=\"1\" class=\"dataframe\">\n",
       "  <thead>\n",
       "    <tr style=\"text-align: right;\">\n",
       "      <th></th>\n",
       "      <th>Model</th>\n",
       "      <th>Accuracy</th>\n",
       "      <th>Precision</th>\n",
       "      <th>Recall</th>\n",
       "      <th>F1</th>\n",
       "    </tr>\n",
       "  </thead>\n",
       "  <tbody>\n",
       "    <tr>\n",
       "      <th>0</th>\n",
       "      <td>LogisticRegression</td>\n",
       "      <td>0.779221</td>\n",
       "      <td>0.733333</td>\n",
       "      <td>0.6</td>\n",
       "      <td>0.66</td>\n",
       "    </tr>\n",
       "  </tbody>\n",
       "</table>\n",
       "</div>"
      ],
      "text/plain": [
       "                Model  Accuracy  Precision  Recall    F1\n",
       "0  LogisticRegression  0.779221   0.733333     0.6  0.66"
      ]
     },
     "execution_count": 22,
     "metadata": {},
     "output_type": "execute_result"
    }
   ],
   "source": [
    "score_card=pd.DataFrame(columns=['Model','Accuracy','Precision','Recall','F1'])\n",
    "results=pd.DataFrame([{\n",
    "    'Model':'LogisticRegression','Accuracy':accuracy_score(y_test,y_pred),\n",
    "'Precision':precision_score(y_test,y_pred),\n",
    "'Recall':recall_score(y_test,y_pred),\n",
    "'F1':f1_score(y_test,y_pred)}])\n",
    "score_card=pd.concat([score_card,results],ignore_index=True)\n"
   ]
  },
  {
   "cell_type": "code",
   "execution_count": 23,
   "id": "eaea3538-ed28-4986-9877-1312f4587609",
   "metadata": {},
   "outputs": [
    {
     "data": {
      "text/html": [
       "<div>\n",
       "<style scoped>\n",
       "    .dataframe tbody tr th:only-of-type {\n",
       "        vertical-align: middle;\n",
       "    }\n",
       "\n",
       "    .dataframe tbody tr th {\n",
       "        vertical-align: top;\n",
       "    }\n",
       "\n",
       "    .dataframe thead th {\n",
       "        text-align: right;\n",
       "    }\n",
       "</style>\n",
       "<table border=\"1\" class=\"dataframe\">\n",
       "  <thead>\n",
       "    <tr style=\"text-align: right;\">\n",
       "      <th></th>\n",
       "      <th>Model</th>\n",
       "      <th>Accuracy</th>\n",
       "      <th>Precision</th>\n",
       "      <th>Recall</th>\n",
       "      <th>F1</th>\n",
       "    </tr>\n",
       "  </thead>\n",
       "  <tbody>\n",
       "    <tr>\n",
       "      <th>0</th>\n",
       "      <td>LogisticRegression</td>\n",
       "      <td>0.779221</td>\n",
       "      <td>0.733333</td>\n",
       "      <td>0.6</td>\n",
       "      <td>0.66</td>\n",
       "    </tr>\n",
       "  </tbody>\n",
       "</table>\n",
       "</div>"
      ],
      "text/plain": [
       "                Model  Accuracy  Precision  Recall    F1\n",
       "0  LogisticRegression  0.779221   0.733333     0.6  0.66"
      ]
     },
     "execution_count": 23,
     "metadata": {},
     "output_type": "execute_result"
    }
   ],
   "source": [
    "score_card"
   ]
  },
  {
   "cell_type": "markdown",
   "id": "0617b569-6e9a-48de-a0b5-529886c9e6e2",
   "metadata": {},
   "source": [
    "**Coefficients (Weights) of features**"
   ]
  },
  {
   "cell_type": "code",
   "execution_count": 28,
   "id": "398b2172-5059-467d-badf-627dcaa473d7",
   "metadata": {},
   "outputs": [
    {
     "data": {
      "text/plain": [
       "array([ 1.30491939e-01,  3.47854801e-02, -1.70227531e-02, -9.22451395e-03,\n",
       "       -1.36024965e-03,  8.81975517e-02,  1.53623159e+00,  8.21138745e-03])"
      ]
     },
     "execution_count": 28,
     "metadata": {},
     "output_type": "execute_result"
    }
   ],
   "source": [
    "coefs=logreg.coef_[0]\n",
    "coefs"
   ]
  },
  {
   "cell_type": "markdown",
   "id": "31db17eb-c4eb-4d68-ad45-b7925336a60d",
   "metadata": {},
   "source": [
    "**Odds ratio of features**"
   ]
  },
  {
   "cell_type": "code",
   "execution_count": 30,
   "id": "39c67d73-e1fe-4957-9f4a-84225df106fc",
   "metadata": {},
   "outputs": [
    {
     "data": {
      "text/plain": [
       "array([1.13938876, 1.03539757, 0.98312132, 0.9908179 , 0.99864068,\n",
       "       1.09220387, 4.64704524, 1.00824519])"
      ]
     },
     "execution_count": 30,
     "metadata": {},
     "output_type": "execute_result"
    }
   ],
   "source": [
    "odd=np.exp(coefs)\n",
    "odd"
   ]
  },
  {
   "cell_type": "markdown",
   "id": "68b32a00-d9e0-4807-b89a-b7ffaae41fe6",
   "metadata": {},
   "source": [
    "**Table of Odd Ratios**"
   ]
  },
  {
   "cell_type": "code",
   "execution_count": 32,
   "id": "89fa820a-6bea-41b5-abc2-fea13489659e",
   "metadata": {},
   "outputs": [
    {
     "data": {
      "text/html": [
       "<div>\n",
       "<style scoped>\n",
       "    .dataframe tbody tr th:only-of-type {\n",
       "        vertical-align: middle;\n",
       "    }\n",
       "\n",
       "    .dataframe tbody tr th {\n",
       "        vertical-align: top;\n",
       "    }\n",
       "\n",
       "    .dataframe thead th {\n",
       "        text-align: right;\n",
       "    }\n",
       "</style>\n",
       "<table border=\"1\" class=\"dataframe\">\n",
       "  <thead>\n",
       "    <tr style=\"text-align: right;\">\n",
       "      <th></th>\n",
       "      <th>Predictor</th>\n",
       "      <th>Coefs</th>\n",
       "      <th>Odd</th>\n",
       "    </tr>\n",
       "  </thead>\n",
       "  <tbody>\n",
       "    <tr>\n",
       "      <th>0</th>\n",
       "      <td>Pregnancies</td>\n",
       "      <td>0.130492</td>\n",
       "      <td>1.139389</td>\n",
       "    </tr>\n",
       "    <tr>\n",
       "      <th>1</th>\n",
       "      <td>Glucose</td>\n",
       "      <td>0.034785</td>\n",
       "      <td>1.035398</td>\n",
       "    </tr>\n",
       "    <tr>\n",
       "      <th>2</th>\n",
       "      <td>BloodPressure</td>\n",
       "      <td>-0.017023</td>\n",
       "      <td>0.983121</td>\n",
       "    </tr>\n",
       "    <tr>\n",
       "      <th>3</th>\n",
       "      <td>SkinThickness</td>\n",
       "      <td>-0.009225</td>\n",
       "      <td>0.990818</td>\n",
       "    </tr>\n",
       "    <tr>\n",
       "      <th>4</th>\n",
       "      <td>Insulin</td>\n",
       "      <td>-0.001360</td>\n",
       "      <td>0.998641</td>\n",
       "    </tr>\n",
       "    <tr>\n",
       "      <th>5</th>\n",
       "      <td>BMI</td>\n",
       "      <td>0.088198</td>\n",
       "      <td>1.092204</td>\n",
       "    </tr>\n",
       "    <tr>\n",
       "      <th>6</th>\n",
       "      <td>DiabetesPedigreeFunction</td>\n",
       "      <td>1.536232</td>\n",
       "      <td>4.647045</td>\n",
       "    </tr>\n",
       "    <tr>\n",
       "      <th>7</th>\n",
       "      <td>Age</td>\n",
       "      <td>0.008211</td>\n",
       "      <td>1.008245</td>\n",
       "    </tr>\n",
       "  </tbody>\n",
       "</table>\n",
       "</div>"
      ],
      "text/plain": [
       "                  Predictor     Coefs       Odd\n",
       "0               Pregnancies  0.130492  1.139389\n",
       "1                   Glucose  0.034785  1.035398\n",
       "2             BloodPressure -0.017023  0.983121\n",
       "3             SkinThickness -0.009225  0.990818\n",
       "4                   Insulin -0.001360  0.998641\n",
       "5                       BMI  0.088198  1.092204\n",
       "6  DiabetesPedigreeFunction  1.536232  4.647045\n",
       "7                       Age  0.008211  1.008245"
      ]
     },
     "execution_count": 32,
     "metadata": {},
     "output_type": "execute_result"
    }
   ],
   "source": [
    "or_table=pd.DataFrame({\n",
    "    'Predictor':X.columns,\n",
    "    'Coefs':coefs,\n",
    "    'Odd':odd})\n",
    "\n",
    "or_table"
   ]
  },
  {
   "cell_type": "markdown",
   "id": "2d14cb77-6a95-46a5-a02e-722d4f5f619d",
   "metadata": {},
   "source": [
    "DiabetesPedigreeFunction, pregnancies, BMI and Glucose appear to be significant predictors of diabetes"
   ]
  },
  {
   "cell_type": "markdown",
   "id": "711427cc-1e01-4357-b107-dffe4994bcfa",
   "metadata": {},
   "source": [
    "**Find the significant features based on p_vals based on a Logit Model**"
   ]
  },
  {
   "cell_type": "code",
   "execution_count": 35,
   "id": "afd57e98-7a31-4c9f-8ec3-c5a02d9f3ac0",
   "metadata": {},
   "outputs": [
    {
     "name": "stdout",
     "output_type": "stream",
     "text": [
      "Optimization terminated successfully.\n",
      "         Current function value: 0.469994\n",
      "         Iterations 6\n"
     ]
    },
    {
     "data": {
      "text/html": [
       "<table class=\"simpletable\">\n",
       "<caption>Logit Regression Results</caption>\n",
       "<tr>\n",
       "  <th>Dep. Variable:</th>        <td>Outcome</td>     <th>  No. Observations:  </th>  <td>   614</td>  \n",
       "</tr>\n",
       "<tr>\n",
       "  <th>Model:</th>                 <td>Logit</td>      <th>  Df Residuals:      </th>  <td>   605</td>  \n",
       "</tr>\n",
       "<tr>\n",
       "  <th>Method:</th>                 <td>MLE</td>       <th>  Df Model:          </th>  <td>     8</td>  \n",
       "</tr>\n",
       "<tr>\n",
       "  <th>Date:</th>            <td>Sat, 27 Jul 2024</td> <th>  Pseudo R-squ.:     </th>  <td>0.2719</td>  \n",
       "</tr>\n",
       "<tr>\n",
       "  <th>Time:</th>                <td>17:19:19</td>     <th>  Log-Likelihood:    </th> <td> -288.58</td> \n",
       "</tr>\n",
       "<tr>\n",
       "  <th>converged:</th>             <td>True</td>       <th>  LL-Null:           </th> <td> -396.34</td> \n",
       "</tr>\n",
       "<tr>\n",
       "  <th>Covariance Type:</th>     <td>nonrobust</td>    <th>  LLR p-value:       </th> <td>3.380e-42</td>\n",
       "</tr>\n",
       "</table>\n",
       "<table class=\"simpletable\">\n",
       "<tr>\n",
       "              <td></td>                <th>coef</th>     <th>std err</th>      <th>z</th>      <th>P>|z|</th>  <th>[0.025</th>    <th>0.975]</th>  \n",
       "</tr>\n",
       "<tr>\n",
       "  <th>const</th>                    <td>   -8.7197</td> <td>    0.894</td> <td>   -9.757</td> <td> 0.000</td> <td>  -10.471</td> <td>   -6.968</td>\n",
       "</tr>\n",
       "<tr>\n",
       "  <th>Pregnancies</th>              <td>    0.1227</td> <td>    0.035</td> <td>    3.457</td> <td> 0.001</td> <td>    0.053</td> <td>    0.192</td>\n",
       "</tr>\n",
       "<tr>\n",
       "  <th>Glucose</th>                  <td>    0.0372</td> <td>    0.004</td> <td>    8.860</td> <td> 0.000</td> <td>    0.029</td> <td>    0.045</td>\n",
       "</tr>\n",
       "<tr>\n",
       "  <th>BloodPressure</th>            <td>   -0.0131</td> <td>    0.009</td> <td>   -1.397</td> <td> 0.162</td> <td>   -0.031</td> <td>    0.005</td>\n",
       "</tr>\n",
       "<tr>\n",
       "  <th>SkinThickness</th>            <td>   -0.0054</td> <td>    0.014</td> <td>   -0.395</td> <td> 0.693</td> <td>   -0.032</td> <td>    0.021</td>\n",
       "</tr>\n",
       "<tr>\n",
       "  <th>Insulin</th>                  <td>   -0.0013</td> <td>    0.001</td> <td>   -1.298</td> <td> 0.194</td> <td>   -0.003</td> <td>    0.001</td>\n",
       "</tr>\n",
       "<tr>\n",
       "  <th>BMI</th>                      <td>    0.1029</td> <td>    0.020</td> <td>    5.223</td> <td> 0.000</td> <td>    0.064</td> <td>    0.141</td>\n",
       "</tr>\n",
       "<tr>\n",
       "  <th>DiabetesPedigreeFunction</th> <td>    0.7191</td> <td>    0.332</td> <td>    2.167</td> <td> 0.030</td> <td>    0.069</td> <td>    1.370</td>\n",
       "</tr>\n",
       "<tr>\n",
       "  <th>Age</th>                      <td>    0.0125</td> <td>    0.011</td> <td>    1.188</td> <td> 0.235</td> <td>   -0.008</td> <td>    0.033</td>\n",
       "</tr>\n",
       "</table>"
      ],
      "text/latex": [
       "\\begin{center}\n",
       "\\begin{tabular}{lclc}\n",
       "\\toprule\n",
       "\\textbf{Dep. Variable:}           &     Outcome      & \\textbf{  No. Observations:  } &      614    \\\\\n",
       "\\textbf{Model:}                   &      Logit       & \\textbf{  Df Residuals:      } &      605    \\\\\n",
       "\\textbf{Method:}                  &       MLE        & \\textbf{  Df Model:          } &        8    \\\\\n",
       "\\textbf{Date:}                    & Sat, 27 Jul 2024 & \\textbf{  Pseudo R-squ.:     } &   0.2719    \\\\\n",
       "\\textbf{Time:}                    &     17:19:19     & \\textbf{  Log-Likelihood:    } &   -288.58   \\\\\n",
       "\\textbf{converged:}               &       True       & \\textbf{  LL-Null:           } &   -396.34   \\\\\n",
       "\\textbf{Covariance Type:}         &    nonrobust     & \\textbf{  LLR p-value:       } & 3.380e-42   \\\\\n",
       "\\bottomrule\n",
       "\\end{tabular}\n",
       "\\begin{tabular}{lcccccc}\n",
       "                                  & \\textbf{coef} & \\textbf{std err} & \\textbf{z} & \\textbf{P$> |$z$|$} & \\textbf{[0.025} & \\textbf{0.975]}  \\\\\n",
       "\\midrule\n",
       "\\textbf{const}                    &      -8.7197  &        0.894     &    -9.757  &         0.000        &      -10.471    &       -6.968     \\\\\n",
       "\\textbf{Pregnancies}              &       0.1227  &        0.035     &     3.457  &         0.001        &        0.053    &        0.192     \\\\\n",
       "\\textbf{Glucose}                  &       0.0372  &        0.004     &     8.860  &         0.000        &        0.029    &        0.045     \\\\\n",
       "\\textbf{BloodPressure}            &      -0.0131  &        0.009     &    -1.397  &         0.162        &       -0.031    &        0.005     \\\\\n",
       "\\textbf{SkinThickness}            &      -0.0054  &        0.014     &    -0.395  &         0.693        &       -0.032    &        0.021     \\\\\n",
       "\\textbf{Insulin}                  &      -0.0013  &        0.001     &    -1.298  &         0.194        &       -0.003    &        0.001     \\\\\n",
       "\\textbf{BMI}                      &       0.1029  &        0.020     &     5.223  &         0.000        &        0.064    &        0.141     \\\\\n",
       "\\textbf{DiabetesPedigreeFunction} &       0.7191  &        0.332     &     2.167  &         0.030        &        0.069    &        1.370     \\\\\n",
       "\\textbf{Age}                      &       0.0125  &        0.011     &     1.188  &         0.235        &       -0.008    &        0.033     \\\\\n",
       "\\bottomrule\n",
       "\\end{tabular}\n",
       "%\\caption{Logit Regression Results}\n",
       "\\end{center}"
      ],
      "text/plain": [
       "<class 'statsmodels.iolib.summary.Summary'>\n",
       "\"\"\"\n",
       "                           Logit Regression Results                           \n",
       "==============================================================================\n",
       "Dep. Variable:                Outcome   No. Observations:                  614\n",
       "Model:                          Logit   Df Residuals:                      605\n",
       "Method:                           MLE   Df Model:                            8\n",
       "Date:                Sat, 27 Jul 2024   Pseudo R-squ.:                  0.2719\n",
       "Time:                        17:19:19   Log-Likelihood:                -288.58\n",
       "converged:                       True   LL-Null:                       -396.34\n",
       "Covariance Type:            nonrobust   LLR p-value:                 3.380e-42\n",
       "============================================================================================\n",
       "                               coef    std err          z      P>|z|      [0.025      0.975]\n",
       "--------------------------------------------------------------------------------------------\n",
       "const                       -8.7197      0.894     -9.757      0.000     -10.471      -6.968\n",
       "Pregnancies                  0.1227      0.035      3.457      0.001       0.053       0.192\n",
       "Glucose                      0.0372      0.004      8.860      0.000       0.029       0.045\n",
       "BloodPressure               -0.0131      0.009     -1.397      0.162      -0.031       0.005\n",
       "SkinThickness               -0.0054      0.014     -0.395      0.693      -0.032       0.021\n",
       "Insulin                     -0.0013      0.001     -1.298      0.194      -0.003       0.001\n",
       "BMI                          0.1029      0.020      5.223      0.000       0.064       0.141\n",
       "DiabetesPedigreeFunction     0.7191      0.332      2.167      0.030       0.069       1.370\n",
       "Age                          0.0125      0.011      1.188      0.235      -0.008       0.033\n",
       "============================================================================================\n",
       "\"\"\""
      ]
     },
     "execution_count": 35,
     "metadata": {},
     "output_type": "execute_result"
    }
   ],
   "source": [
    "import statsmodels.api as sm\n",
    "x_train=sm.add_constant(x_train)\n",
    "x_test=sm.add_constant(x_test)\n",
    "logit=sm.Logit(y_train,x_train).fit()\n",
    "logit.summary()\n",
    "\n"
   ]
  },
  {
   "cell_type": "markdown",
   "id": "3786d8f7-8c3e-4019-a7a1-4f45083a0e5c",
   "metadata": {},
   "source": [
    "\n",
    "Pregnancies, Glucose, BMI and DPF are significant predictors of diabetes based on p-values"
   ]
  },
  {
   "cell_type": "markdown",
   "id": "41184703-168d-4571-af6d-2b3e880d240a",
   "metadata": {},
   "source": [
    "## Fit and evaluate a Naive Bayes Model\n"
   ]
  },
  {
   "cell_type": "code",
   "execution_count": 37,
   "id": "cf5a5cc9-2b1e-4cfa-adb9-b7ec18903a9b",
   "metadata": {},
   "outputs": [],
   "source": [
    "from sklearn.naive_bayes import GaussianNB\n",
    "nbm=GaussianNB()\n",
    "nbm.fit(x_train,y_train)\n",
    "y_pred=nbm.predict(x_test)"
   ]
  },
  {
   "cell_type": "code",
   "execution_count": 38,
   "id": "f08f6007-9729-4883-b2f2-d7ad202326b1",
   "metadata": {},
   "outputs": [
    {
     "data": {
      "text/html": [
       "<div>\n",
       "<style scoped>\n",
       "    .dataframe tbody tr th:only-of-type {\n",
       "        vertical-align: middle;\n",
       "    }\n",
       "\n",
       "    .dataframe tbody tr th {\n",
       "        vertical-align: top;\n",
       "    }\n",
       "\n",
       "    .dataframe thead th {\n",
       "        text-align: right;\n",
       "    }\n",
       "</style>\n",
       "<table border=\"1\" class=\"dataframe\">\n",
       "  <thead>\n",
       "    <tr style=\"text-align: right;\">\n",
       "      <th></th>\n",
       "      <th>Model</th>\n",
       "      <th>Accuracy</th>\n",
       "      <th>Precision</th>\n",
       "      <th>Recall</th>\n",
       "      <th>F1</th>\n",
       "    </tr>\n",
       "  </thead>\n",
       "  <tbody>\n",
       "    <tr>\n",
       "      <th>0</th>\n",
       "      <td>LogisticRegression</td>\n",
       "      <td>0.779221</td>\n",
       "      <td>0.733333</td>\n",
       "      <td>0.600000</td>\n",
       "      <td>0.660000</td>\n",
       "    </tr>\n",
       "    <tr>\n",
       "      <th>1</th>\n",
       "      <td>NaiveBayes</td>\n",
       "      <td>0.753247</td>\n",
       "      <td>0.666667</td>\n",
       "      <td>0.618182</td>\n",
       "      <td>0.641509</td>\n",
       "    </tr>\n",
       "  </tbody>\n",
       "</table>\n",
       "</div>"
      ],
      "text/plain": [
       "                Model  Accuracy  Precision    Recall        F1\n",
       "0  LogisticRegression  0.779221   0.733333  0.600000  0.660000\n",
       "1          NaiveBayes  0.753247   0.666667  0.618182  0.641509"
      ]
     },
     "execution_count": 38,
     "metadata": {},
     "output_type": "execute_result"
    }
   ],
   "source": [
    "results=pd.DataFrame([{\n",
    "    'Model':'NaiveBayes',\n",
    "    'Accuracy':accuracy_score(y_test,y_pred),\n",
    "'Precision':precision_score(y_test,y_pred),\n",
    "'Recall':recall_score(y_test,y_pred),\n",
    "'F1':f1_score(y_test,y_pred)}])\n",
    "score_card=pd.concat([score_card,results],ignore_index=True)\n",
    "score_card"
   ]
  },
  {
   "cell_type": "code",
   "execution_count": 40,
   "id": "217c5cf5-914c-477c-8246-4393ce390257",
   "metadata": {},
   "outputs": [
    {
     "name": "stdout",
     "output_type": "stream",
     "text": [
      "[[82 17]\n",
      " [21 34]]\n"
     ]
    }
   ],
   "source": [
    "print(confusion_matrix(y_test,y_pred))"
   ]
  },
  {
   "cell_type": "code",
   "execution_count": 42,
   "id": "cdb15878",
   "metadata": {},
   "outputs": [
    {
     "name": "stdout",
     "output_type": "stream",
     "text": [
      "              precision    recall  f1-score   support\n",
      "\n",
      "           0       0.80      0.83      0.81        99\n",
      "           1       0.67      0.62      0.64        55\n",
      "\n",
      "    accuracy                           0.75       154\n",
      "   macro avg       0.73      0.72      0.73       154\n",
      "weighted avg       0.75      0.75      0.75       154\n",
      "\n"
     ]
    }
   ],
   "source": [
    "print(classification_report(y_test,y_pred))"
   ]
  },
  {
   "cell_type": "markdown",
   "id": "5ebe622d",
   "metadata": {},
   "source": [
    "# END"
   ]
  }
 ],
 "metadata": {
  "kernelspec": {
   "display_name": "Python 3 (ipykernel)",
   "language": "python",
   "name": "python3"
  },
  "language_info": {
   "codemirror_mode": {
    "name": "ipython",
    "version": 3
   },
   "file_extension": ".py",
   "mimetype": "text/x-python",
   "name": "python",
   "nbconvert_exporter": "python",
   "pygments_lexer": "ipython3",
   "version": "3.11.4"
  }
 },
 "nbformat": 4,
 "nbformat_minor": 5
}
